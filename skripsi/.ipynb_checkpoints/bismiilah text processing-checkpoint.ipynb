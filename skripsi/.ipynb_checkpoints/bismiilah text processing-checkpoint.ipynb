{
 "cells": [
  {
   "cell_type": "code",
   "execution_count": null,
   "id": "3878885d",
   "metadata": {},
   "outputs": [],
   "source": [
    "!pip install nltk\n",
    "!pip install pandas\n",
    "!pip install matplotlib\n",
    "!pip install swifter"
   ]
  },
  {
   "cell_type": "code",
   "execution_count": null,
   "id": "0943a787",
   "metadata": {},
   "outputs": [],
   "source": [
    "import pandas as pd\n",
    "import string \n",
    "import re #regex library\n",
    "import swifter\n",
    "\n",
    "# import word_tokenize & FreqDist from NLTK\n",
    "from nltk.tokenize import word_tokenize \n",
    "from nltk.probability import FreqDist\n",
    "from nltk.corpus import stopwords\n",
    "from Sastrawi.Stemmer.StemmerFactory import StemmerFactory"
   ]
  },
  {
   "cell_type": "code",
   "execution_count": null,
   "id": "da94dbf1",
   "metadata": {},
   "outputs": [],
   "source": [
    "def load_data():\n",
    "    data = pd.read_csv('tes1.csv', delimiter =';',encoding= 'unicode_escape') #Memanggil data dari file cvs\n",
    "    return data\n",
    "\n",
    "jawaban_df = load_data()\n",
    "jawaban_df.head(n=10)"
   ]
  },
  {
   "cell_type": "code",
   "execution_count": null,
   "id": "6b1c57c9",
   "metadata": {},
   "outputs": [],
   "source": [
    "df = pd.DataFrame(jawaban_df[['NAMA :', 'Perhatikan gambar berikut. Jelaskan secara rinci kondisi berdasarkan gambar di bawah ini !']])\n",
    "df"
   ]
  },
  {
   "cell_type": "code",
   "execution_count": null,
   "id": "bfd0f176",
   "metadata": {},
   "outputs": [],
   "source": [
    "# ------ Case Folding --------\n",
    "df['NAMA :'] = df['NAMA :'].str.lower()\n",
    "df['Perhatikan gambar berikut. Jelaskan secara rinci kondisi berdasarkan gambar di bawah ini !'] = df['Perhatikan gambar berikut. Jelaskan secara rinci kondisi berdasarkan gambar di bawah ini !'].str.lower()\n",
    "\n",
    "\n",
    "df.head(n=10)"
   ]
  },
  {
   "cell_type": "code",
   "execution_count": null,
   "id": "0ffeb19c",
   "metadata": {},
   "outputs": [],
   "source": [
    "# Tokenezing\n",
    "\n",
    "def remove_tweet_special(text):\n",
    "    # remove tab, new line, ans back slice\n",
    "    return text.replace('\\\\t',\" \").replace('\\\\u',\" \").replace('\\\\',\"\")\n",
    "    # remove non ASCII (emoticon, chinese word, .etc)\n",
    "    text = text.encode('ascii', 'replace').decode('ascii')\n",
    "    # remove mention, link, hashtag\n",
    "    text = ' '.join(re.sub(\"([@#][A-Za-z0-9]+)|(\\w+:\\/\\/\\S+)\",\" \", text).split())\n",
    "    # remove incomplete URL\n",
    "    return text.replace(\"http://\", \" \").replace(\"https://\", \" \")\n",
    "               \n",
    "df['Perhatikan gambar berikut. Jelaskan secara rinci kondisi berdasarkan gambar di bawah ini !'] = df['Perhatikan gambar berikut. Jelaskan secara rinci kondisi berdasarkan gambar di bawah ini !'].apply(remove_tweet_special)\n",
    "\n",
    "#remove number\n",
    "def remove_number(text):\n",
    "    return  re.sub(r\"\\d+\", \"\", str(text))\n",
    "\n",
    "df['Perhatikan gambar berikut. Jelaskan secara rinci kondisi berdasarkan gambar di bawah ini !'] = df['Perhatikan gambar berikut. Jelaskan secara rinci kondisi berdasarkan gambar di bawah ini !'].apply(remove_number)\n",
    "\n",
    "#remove punctuation\n",
    "def remove_punctuation(text):\n",
    "    return text.translate(str.maketrans(\"\",\"\",string.punctuation))\n",
    "\n",
    "df['Perhatikan gambar berikut. Jelaskan secara rinci kondisi berdasarkan gambar di bawah ini !'] = df['Perhatikan gambar berikut. Jelaskan secara rinci kondisi berdasarkan gambar di bawah ini !'].apply(remove_punctuation)\n",
    "\n",
    "#remove whitespace leading & trailing\n",
    "def remove_whitespace_LT(text):\n",
    "    return text.strip()\n",
    "\n",
    "df['Perhatikan gambar berikut. Jelaskan secara rinci kondisi berdasarkan gambar di bawah ini !'] = df['Perhatikan gambar berikut. Jelaskan secara rinci kondisi berdasarkan gambar di bawah ini !'].apply(remove_whitespace_LT)\n",
    "\n",
    "#remove multiple whitespace into single whitespace\n",
    "def remove_whitespace_multiple(text):\n",
    "    return re.sub('\\s+',' ', str(text))\n",
    "\n",
    "df['Perhatikan gambar berikut. Jelaskan secara rinci kondisi berdasarkan gambar di bawah ini !'] = df['Perhatikan gambar berikut. Jelaskan secara rinci kondisi berdasarkan gambar di bawah ini !'].apply(remove_whitespace_multiple)\n",
    "\n",
    "# remove single char\n",
    "def remove_singl_char(text):\n",
    "    return re.sub(r\"\\b[a-zA-Z]\\b\", \"\", str(text))\n",
    "\n",
    "df['Perhatikan gambar berikut. Jelaskan secara rinci kondisi berdasarkan gambar di bawah ini !'] = df['Perhatikan gambar berikut. Jelaskan secara rinci kondisi berdasarkan gambar di bawah ini !'].apply(remove_singl_char)\n",
    "\n",
    "# NLTK word rokenize \n",
    "def word_tokenize_wrapper(text):\n",
    "    return word_tokenize(text)\n",
    "\n",
    "df['hasil_tokens'] = df['Perhatikan gambar berikut. Jelaskan secara rinci kondisi berdasarkan gambar di bawah ini !'].apply(word_tokenize_wrapper)\n",
    "\n",
    "print('Tokenizing Result : \\n') \n",
    "print(df['hasil_tokens'].head(n=10))\n",
    "print('\\n\\n\\n')"
   ]
  },
  {
   "cell_type": "code",
   "execution_count": null,
   "id": "aa2deaf0",
   "metadata": {
    "scrolled": true
   },
   "outputs": [],
   "source": [
    "# ----------------------- get stopword from NLTK stopword -------------------------------\n",
    "from nltk.corpus import stopwords\n",
    "# get stopword indonesia\n",
    "list_stopwords = stopwords.words('indonesian')\n",
    "\n",
    "\n",
    "# ---------------------------- manualy add stopword  ------------------------------------\n",
    "# append additional stopword\n",
    "# list_stopwords.extend([\"yg\", \"dg\", \"rt\", \"dgn\", \"ny\", \"d\", 'klo', \n",
    "#                        'kalo', 'amp', 'biar', 'bikin', 'bilang', \n",
    "#                        'gak', 'ga', 'krn', 'nya', 'nih', 'sih', \n",
    "#                        'si', 'tau', 'tdk', 'tuh', 'utk', 'ya', \n",
    "#                        'jd', 'jgn', 'sdh', 'aja', 'n', 't', \n",
    "#                        'nyg', 'hehe', 'pen', 'u', 'nan', 'loh', 'rt',\n",
    "#                        '&amp', 'yah'])\n",
    "\n",
    "# ----------------------- add stopword from txt file ------------------------------------\n",
    "# read txt stopword using pandas\n",
    "txt_stopword = pd.read_csv(\"stopword.txt\", names= [\"stopword\"], header = None)\n",
    "\n",
    "list_stopwords.extend(txt_stopword[\"stopword\"][0].split(' '))\n",
    "\n",
    "\n",
    "# convert list to dictionary\n",
    "list_stopwords = set(list_stopwords)\n",
    "\n",
    "#remove stopword pada list token\n",
    "def stopwords_removal(words):\n",
    "    return [word for word in words if word not in list_stopwords]\n",
    "\n",
    "df['hasil_stopword'] = df['hasil_tokens'].apply(stopwords_removal) \n",
    "\n",
    "\n",
    "print(df['hasil_stopword'].head(10))"
   ]
  },
  {
   "cell_type": "code",
   "execution_count": null,
   "id": "8af37a66",
   "metadata": {},
   "outputs": [],
   "source": [
    "# Steeming\n",
    "# create stemmer\n",
    "factory = StemmerFactory()\n",
    "stemmer = factory.create_stemmer()\n",
    "\n",
    "# stemmed\n",
    "def stemmed_wrapper(term):\n",
    "    return stemmer.stem(term)\n",
    "\n",
    "term_dict = {}\n",
    "\n",
    "for document in df['hasil_stopword']:\n",
    "    for term in document:\n",
    "        if term not in term_dict:\n",
    "            term_dict[term] = ' '\n",
    "            \n",
    "# print(len(term_dict))\n",
    "# print(\"------------------------\")\n",
    "\n",
    "for term in term_dict:\n",
    "    term_dict[term] = stemmed_wrapper(term)\n",
    "#     print(term,\":\" ,term_dict[term])\n",
    "    \n",
    "# print(term_dict)\n",
    "# print(\"------------------------\")\n",
    "\n",
    "\n",
    "# apply stemmed term to dataframe\n",
    "def get_stemmed_term(document):\n",
    "    return [term_dict[term] for term in document]\n",
    "\n",
    "df['hasil_steeming'] = df['hasil_stopword'].swifter.apply(get_stemmed_term)\n",
    "print(df['hasil_steeming'].head(n=10))"
   ]
  },
  {
   "cell_type": "code",
   "execution_count": null,
   "id": "da815466",
   "metadata": {},
   "outputs": [],
   "source": []
  },
  {
   "cell_type": "code",
   "execution_count": null,
   "id": "0b14d582",
   "metadata": {},
   "outputs": [],
   "source": [
    "filename = \"TextPreProcessing.csv\"\n",
    "df.to_csv(filename, index=False)"
   ]
  },
  {
   "cell_type": "code",
   "execution_count": null,
   "id": "46a23d6a",
   "metadata": {},
   "outputs": [],
   "source": []
  }
 ],
 "metadata": {
  "kernelspec": {
   "display_name": "Python 3 (ipykernel)",
   "language": "python",
   "name": "python3"
  },
  "language_info": {
   "codemirror_mode": {
    "name": "ipython",
    "version": 3
   },
   "file_extension": ".py",
   "mimetype": "text/x-python",
   "name": "python",
   "nbconvert_exporter": "python",
   "pygments_lexer": "ipython3",
   "version": "3.9.2"
  }
 },
 "nbformat": 4,
 "nbformat_minor": 5
}
